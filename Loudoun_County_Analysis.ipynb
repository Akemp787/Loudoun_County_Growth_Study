{
 "cells": [
  {
   "cell_type": "markdown",
   "id": "b6d76989",
   "metadata": {},
   "source": [
    "# **Data Analysis and Visualization Project**"
   ]
  },
  {
   "cell_type": "code",
   "execution_count": 1,
   "id": "efeb3cbc",
   "metadata": {},
   "outputs": [],
   "source": [
    "\n",
    "# Step 1: Import Libraries\n",
    "import pandas as pd\n",
    "import numpy as np\n",
    "import matplotlib.pyplot as plt\n",
    "import seaborn as sns\n",
    "import os  # For file existence checks\n",
    "\n",
    "# Configure plotting style\n",
    "sns.set_theme(style=\"whitegrid\")\n"
   ]
  },
  {
   "cell_type": "markdown",
   "id": "847916b8",
   "metadata": {},
   "source": [
    "## **File Loading and Validation**"
   ]
  },
  {
   "cell_type": "code",
   "execution_count": 2,
   "id": "0a3d3242",
   "metadata": {},
   "outputs": [],
   "source": [
    "\n",
    "# Step 2: File Paths and Validation\n",
    "file_paths = {\n",
    "    \"Population_Housing\": \"C:/Users/AKKem/OneDrive/Desktop/Data Analysis Modules/Projects/Loudoun_Growth_Study/data/2020_decennial_population_housing.csv\",\n",
    "    \"CBP\": \"C:/Users/AKKem/OneDrive/Desktop/Data Analysis Modules/Projects/Loudoun_Growth_Study/data/CB2200CBP.csv\",\n",
    "    \"Income\": \"C:/Users/AKKem/OneDrive/Desktop/Data Analysis Modules/Projects/Loudoun_Growth_Study/data/Combined_B19013.csv\",\n",
    "    \"Housing_Costs\": \"C:/Users/AKKem/OneDrive/Desktop/Data Analysis Modules/Projects/Loudoun_Growth_Study/data/Combined_B25077.csv\",\n",
    "    \"Labor_Stats\": \"C:/Users/AKKem/OneDrive/Desktop/Data Analysis Modules/Projects/Loudoun_Growth_Study/data/Combined_BLS_Data.csv\",\n",
    "    \"Census_Data\": \"C:/Users/AKKem/OneDrive/Desktop/Data Analysis Modules/Projects/Loudoun_Growth_Study/data/Combined_Census_Data.csv\",\n",
    "    \"Demographics\": \"C:/Users/AKKem/OneDrive/Desktop/Data Analysis Modules/Projects/Loudoun_Growth_Study/data/Combined_Demographics_Data.csv\",\n",
    "    \"Housing_Characteristics\": \"C:/Users/AKKem/OneDrive/Desktop/Data Analysis Modules/Projects/Loudoun_Growth_Study/data/Combined_DP04.csv\",\n",
    "    \"Population_Characteristics\": \"C:/Users/AKKem/OneDrive/Desktop/Data Analysis Modules/Projects/Loudoun_Growth_Study/data/Combined_DP05.csv\",\n",
    "    \"GDP\": \"C:/Users/AKKem/OneDrive/Desktop/Data Analysis Modules/Projects/Loudoun_Growth_Study/data/Combined_GDP_Data.csv\",\n",
    "    \"Occupations\": \"C:/Users/AKKem/OneDrive/Desktop/Data Analysis Modules/Projects/Loudoun_Growth_Study/data/Combined_S2401.csv\",\n",
    "    \"Industry_Sectors\": \"C:/Users/AKKem/OneDrive/Desktop/Data Analysis Modules/Projects/Loudoun_Growth_Study/data/Combined_S2403.csv\",\n",
    "    \"Economic_Data\": \"C:/Users/AKKem/OneDrive/Desktop/Data Analysis Modules/Projects/Loudoun_Growth_Study/data/EC1700BASIC.csv\"\n",
    "}\n",
    "\n",
    "# Check file existence and log missing files\n",
    "missing_files = [name for name, path in file_paths.items() if not os.path.exists(path)]\n",
    "if missing_files:\n",
    "    print(f\"Warning: The following files are missing:\\n{missing_files}\")\n",
    "\n",
    "# Load available datasets\n",
    "dataframes = {}\n",
    "for name, path in file_paths.items():\n",
    "    if os.path.exists(path):\n",
    "        try:\n",
    "            dataframes[name] = pd.read_csv(path, encoding=\"latin1\")\n",
    "        except Exception as e:\n",
    "            print(f\"Error loading {name}: {e}\")\n",
    "    else:\n",
    "        print(f\"File {name} not found. Skipping.\")\n"
   ]
  },
  {
   "cell_type": "markdown",
   "id": "5e451d44",
   "metadata": {},
   "source": [
    "## **Reusable Data Cleaning Functions**"
   ]
  },
  {
   "cell_type": "code",
   "execution_count": 3,
   "id": "74c54d20",
   "metadata": {},
   "outputs": [],
   "source": [
    "\n",
    "# Step 3: Reusable Cleaning Functions\n",
    "\n",
    "def clean_column_names(df):\n",
    "    \"\"\"\n",
    "    Standardize column names by removing special characters, trimming spaces,\n",
    "    and converting to lowercase.\n",
    "    \"\"\"\n",
    "    df.columns = (\n",
    "        df.columns.str.strip()\n",
    "        .str.replace(r\"[^a-zA-Z0-9\\s]\", \"\", regex=True)\n",
    "        .str.replace(r\"\\s+\", \"_\", regex=True)\n",
    "        .str.lower()\n",
    "    )\n",
    "    return df\n",
    "\n",
    "def clean_dataset(df, column_mapping=None):\n",
    "    \"\"\"\n",
    "    Cleans a dataset by renaming columns, stripping text, and handling missing values.\n",
    "    \"\"\"\n",
    "    if column_mapping:\n",
    "        df = df.rename(columns=column_mapping)\n",
    "    df = df.applymap(lambda x: x.strip() if isinstance(x, str) else x)  # Strip strings\n",
    "    df = df.dropna(how=\"all\")  # Drop rows where all values are NaN\n",
    "    return df\n",
    "\n",
    "# Apply cleaning to all datasets\n",
    "dataframes = {name: clean_column_names(df) for name, df in dataframes.items()}\n"
   ]
  },
  {
   "cell_type": "markdown",
   "id": "51cee560",
   "metadata": {},
   "source": [
    "## **Error Handling in Cleaning**"
   ]
  },
  {
   "cell_type": "code",
   "execution_count": 4,
   "id": "9a5309c8",
   "metadata": {},
   "outputs": [],
   "source": [
    "\n",
    "# Handle Missing Values and Types\n",
    "def check_missing_data(df):\n",
    "    \"\"\"\n",
    "    Display missing data summary.\n",
    "    \"\"\"\n",
    "    missing = df.isnull().sum()\n",
    "    print(f\"Missing Data Summary:\\n{missing[missing > 0]}\")\n",
    "\n",
    "def ensure_numeric(df, column):\n",
    "    \"\"\"\n",
    "    Ensure a column is numeric; coerce errors to NaN.\n",
    "    \"\"\"\n",
    "    if column in df.columns:\n",
    "        df[column] = pd.to_numeric(df[column], errors=\"coerce\")\n",
    "    else:\n",
    "        print(f\"Column {column} not found in dataset.\")\n",
    "    return df\n"
   ]
  },
  {
   "cell_type": "markdown",
   "id": "8f325b68",
   "metadata": {},
   "source": [
    "## **Visualization Functions**"
   ]
  },
  {
   "cell_type": "code",
   "execution_count": 5,
   "id": "51880aaf",
   "metadata": {},
   "outputs": [],
   "source": [
    "\n",
    "# Step 4: Visualization Functions\n",
    "\n",
    "def plot_line(data, x, y, title, xlabel, ylabel, color=\"blue\"):\n",
    "    \"\"\"\n",
    "    Generate a line plot for trends over time.\n",
    "    \"\"\"\n",
    "    plt.figure(figsize=(12, 6))\n",
    "    sns.lineplot(data=data, x=x, y=y, marker=\"o\", color=color)\n",
    "    plt.title(title)\n",
    "    plt.xlabel(xlabel)\n",
    "    plt.ylabel(ylabel)\n",
    "    plt.grid(True)\n",
    "    plt.tight_layout()\n",
    "    plt.show()\n",
    "\n",
    "def plot_bar(data, x, y, title, xlabel, ylabel, palette=\"Blues_d\"):\n",
    "    \"\"\"\n",
    "    Generate a bar plot.\n",
    "    \"\"\"\n",
    "    plt.figure(figsize=(12, 8))\n",
    "    sns.barplot(data=data, x=x, y=y, palette=palette)\n",
    "    plt.title(title)\n",
    "    plt.xlabel(xlabel)\n",
    "    plt.ylabel(ylabel)\n",
    "    plt.tight_layout()\n",
    "    plt.show()\n",
    "\n",
    "def plot_pie(data, labels_col, values_col, title, colors=None):\n",
    "    \"\"\"\n",
    "    Generate a pie chart.\n",
    "    \"\"\"\n",
    "    plt.figure(figsize=(8, 8))\n",
    "    plt.pie(\n",
    "        data[values_col],\n",
    "        labels=data[labels_col],\n",
    "        autopct=\"%1.1f%%\",\n",
    "        startangle=140,\n",
    "        colors=colors or sns.color_palette(\"pastel\")\n",
    "    )\n",
    "    plt.title(title)\n",
    "    plt.tight_layout()\n",
    "    plt.show()\n"
   ]
  },
  {
   "cell_type": "markdown",
   "id": "044f7dbb",
   "metadata": {},
   "source": [
    "## **Housing Costs Analysis**"
   ]
  },
  {
   "cell_type": "code",
   "execution_count": 6,
   "id": "47aec0fb",
   "metadata": {
    "scrolled": false
   },
   "outputs": [
    {
     "ename": "KeyError",
     "evalue": "'y'",
     "output_type": "error",
     "traceback": [
      "\u001b[1;31m---------------------------------------------------------------------------\u001b[0m",
      "\u001b[1;31mKeyError\u001b[0m                                  Traceback (most recent call last)",
      "File \u001b[1;32m~\\anaconda3\\envs\\dev\\lib\\site-packages\\pandas\\core\\indexes\\base.py:3653\u001b[0m, in \u001b[0;36mIndex.get_loc\u001b[1;34m(self, key)\u001b[0m\n\u001b[0;32m   3652\u001b[0m \u001b[38;5;28;01mtry\u001b[39;00m:\n\u001b[1;32m-> 3653\u001b[0m     \u001b[38;5;28;01mreturn\u001b[39;00m \u001b[38;5;28;43mself\u001b[39;49m\u001b[38;5;241;43m.\u001b[39;49m\u001b[43m_engine\u001b[49m\u001b[38;5;241;43m.\u001b[39;49m\u001b[43mget_loc\u001b[49m\u001b[43m(\u001b[49m\u001b[43mcasted_key\u001b[49m\u001b[43m)\u001b[49m\n\u001b[0;32m   3654\u001b[0m \u001b[38;5;28;01mexcept\u001b[39;00m \u001b[38;5;167;01mKeyError\u001b[39;00m \u001b[38;5;28;01mas\u001b[39;00m err:\n",
      "File \u001b[1;32m~\\anaconda3\\envs\\dev\\lib\\site-packages\\pandas\\_libs\\index.pyx:147\u001b[0m, in \u001b[0;36mpandas._libs.index.IndexEngine.get_loc\u001b[1;34m()\u001b[0m\n",
      "File \u001b[1;32m~\\anaconda3\\envs\\dev\\lib\\site-packages\\pandas\\_libs\\index.pyx:176\u001b[0m, in \u001b[0;36mpandas._libs.index.IndexEngine.get_loc\u001b[1;34m()\u001b[0m\n",
      "File \u001b[1;32mpandas\\_libs\\hashtable_class_helper.pxi:7080\u001b[0m, in \u001b[0;36mpandas._libs.hashtable.PyObjectHashTable.get_item\u001b[1;34m()\u001b[0m\n",
      "File \u001b[1;32mpandas\\_libs\\hashtable_class_helper.pxi:7088\u001b[0m, in \u001b[0;36mpandas._libs.hashtable.PyObjectHashTable.get_item\u001b[1;34m()\u001b[0m\n",
      "\u001b[1;31mKeyError\u001b[0m: 'y'",
      "\nThe above exception was the direct cause of the following exception:\n",
      "\u001b[1;31mKeyError\u001b[0m                                  Traceback (most recent call last)",
      "Cell \u001b[1;32mIn[6], line 12\u001b[0m\n\u001b[0;32m     10\u001b[0m \u001b[38;5;66;03m# Plot Median Housing Costs Over Time\u001b[39;00m\n\u001b[0;32m     11\u001b[0m \u001b[38;5;28;01mif\u001b[39;00m \u001b[38;5;129;01mnot\u001b[39;00m housing_costs\u001b[38;5;241m.\u001b[39mempty:\n\u001b[1;32m---> 12\u001b[0m     \u001b[43mplot_line\u001b[49m\u001b[43m(\u001b[49m\n\u001b[0;32m     13\u001b[0m \u001b[43m        \u001b[49m\u001b[43mhousing_costs\u001b[49m\u001b[43m,\u001b[49m\n\u001b[0;32m     14\u001b[0m \u001b[43m        \u001b[49m\u001b[43mx\u001b[49m\u001b[38;5;241;43m=\u001b[39;49m\u001b[38;5;124;43m\"\u001b[39;49m\u001b[38;5;124;43myear\u001b[39;49m\u001b[38;5;124;43m\"\u001b[39;49m\u001b[43m,\u001b[49m\n\u001b[0;32m     15\u001b[0m \u001b[43m        \u001b[49m\u001b[43my\u001b[49m\u001b[38;5;241;43m=\u001b[39;49m\u001b[38;5;124;43m\"\u001b[39;49m\u001b[38;5;124;43mmedian_value_dollars\u001b[39;49m\u001b[38;5;124;43m\"\u001b[39;49m\u001b[43m,\u001b[49m\n\u001b[0;32m     16\u001b[0m \u001b[43m        \u001b[49m\u001b[43mtitle\u001b[49m\u001b[38;5;241;43m=\u001b[39;49m\u001b[38;5;124;43m\"\u001b[39;49m\u001b[38;5;124;43mMedian Housing Costs in Loudoun County (2010-2020)\u001b[39;49m\u001b[38;5;124;43m\"\u001b[39;49m\u001b[43m,\u001b[49m\n\u001b[0;32m     17\u001b[0m \u001b[43m        \u001b[49m\u001b[43mxlabel\u001b[49m\u001b[38;5;241;43m=\u001b[39;49m\u001b[38;5;124;43m\"\u001b[39;49m\u001b[38;5;124;43mYear\u001b[39;49m\u001b[38;5;124;43m\"\u001b[39;49m\u001b[43m,\u001b[49m\n\u001b[0;32m     18\u001b[0m \u001b[43m        \u001b[49m\u001b[43mylabel\u001b[49m\u001b[38;5;241;43m=\u001b[39;49m\u001b[38;5;124;43m\"\u001b[39;49m\u001b[38;5;124;43mMedian Housing Cost (USD)\u001b[39;49m\u001b[38;5;124;43m\"\u001b[39;49m\u001b[43m,\u001b[49m\n\u001b[0;32m     19\u001b[0m \u001b[43m        \u001b[49m\u001b[43mcolor\u001b[49m\u001b[38;5;241;43m=\u001b[39;49m\u001b[38;5;124;43m\"\u001b[39;49m\u001b[38;5;124;43mpurple\u001b[39;49m\u001b[38;5;124;43m\"\u001b[39;49m\n\u001b[0;32m     20\u001b[0m \u001b[43m    \u001b[49m\u001b[43m)\u001b[49m\n\u001b[0;32m     21\u001b[0m \u001b[38;5;28;01melse\u001b[39;00m:\n\u001b[0;32m     22\u001b[0m     \u001b[38;5;28mprint\u001b[39m(\u001b[38;5;124m\"\u001b[39m\u001b[38;5;124mNo data for Loudoun County in Housing Costs dataset.\u001b[39m\u001b[38;5;124m\"\u001b[39m)\n",
      "Cell \u001b[1;32mIn[5], line 8\u001b[0m, in \u001b[0;36mplot_line\u001b[1;34m(data, x, y, title, xlabel, ylabel, color)\u001b[0m\n\u001b[0;32m      4\u001b[0m \u001b[38;5;250m\u001b[39m\u001b[38;5;124;03m\"\"\"\u001b[39;00m\n\u001b[0;32m      5\u001b[0m \u001b[38;5;124;03mGenerate a line plot for trends over time.\u001b[39;00m\n\u001b[0;32m      6\u001b[0m \u001b[38;5;124;03m\"\"\"\u001b[39;00m\n\u001b[0;32m      7\u001b[0m plt\u001b[38;5;241m.\u001b[39mfigure(figsize\u001b[38;5;241m=\u001b[39m(\u001b[38;5;241m12\u001b[39m, \u001b[38;5;241m6\u001b[39m))\n\u001b[1;32m----> 8\u001b[0m \u001b[43msns\u001b[49m\u001b[38;5;241;43m.\u001b[39;49m\u001b[43mlineplot\u001b[49m\u001b[43m(\u001b[49m\u001b[43mdata\u001b[49m\u001b[38;5;241;43m=\u001b[39;49m\u001b[43mdata\u001b[49m\u001b[43m,\u001b[49m\u001b[43m \u001b[49m\u001b[43mx\u001b[49m\u001b[38;5;241;43m=\u001b[39;49m\u001b[43mx\u001b[49m\u001b[43m,\u001b[49m\u001b[43m \u001b[49m\u001b[43my\u001b[49m\u001b[38;5;241;43m=\u001b[39;49m\u001b[43my\u001b[49m\u001b[43m,\u001b[49m\u001b[43m \u001b[49m\u001b[43mmarker\u001b[49m\u001b[38;5;241;43m=\u001b[39;49m\u001b[38;5;124;43m\"\u001b[39;49m\u001b[38;5;124;43mo\u001b[39;49m\u001b[38;5;124;43m\"\u001b[39;49m\u001b[43m,\u001b[49m\u001b[43m \u001b[49m\u001b[43mcolor\u001b[49m\u001b[38;5;241;43m=\u001b[39;49m\u001b[43mcolor\u001b[49m\u001b[43m)\u001b[49m\n\u001b[0;32m      9\u001b[0m plt\u001b[38;5;241m.\u001b[39mtitle(title)\n\u001b[0;32m     10\u001b[0m plt\u001b[38;5;241m.\u001b[39mxlabel(xlabel)\n",
      "File \u001b[1;32m~\\anaconda3\\envs\\dev\\lib\\site-packages\\seaborn\\relational.py:645\u001b[0m, in \u001b[0;36mlineplot\u001b[1;34m(data, x, y, hue, size, style, units, palette, hue_order, hue_norm, sizes, size_order, size_norm, dashes, markers, style_order, estimator, errorbar, n_boot, seed, orient, sort, err_style, err_kws, legend, ci, ax, **kwargs)\u001b[0m\n\u001b[0;32m    642\u001b[0m color \u001b[38;5;241m=\u001b[39m kwargs\u001b[38;5;241m.\u001b[39mpop(\u001b[38;5;124m\"\u001b[39m\u001b[38;5;124mcolor\u001b[39m\u001b[38;5;124m\"\u001b[39m, kwargs\u001b[38;5;241m.\u001b[39mpop(\u001b[38;5;124m\"\u001b[39m\u001b[38;5;124mc\u001b[39m\u001b[38;5;124m\"\u001b[39m, \u001b[38;5;28;01mNone\u001b[39;00m))\n\u001b[0;32m    643\u001b[0m kwargs[\u001b[38;5;124m\"\u001b[39m\u001b[38;5;124mcolor\u001b[39m\u001b[38;5;124m\"\u001b[39m] \u001b[38;5;241m=\u001b[39m _default_color(ax\u001b[38;5;241m.\u001b[39mplot, hue, color, kwargs)\n\u001b[1;32m--> 645\u001b[0m \u001b[43mp\u001b[49m\u001b[38;5;241;43m.\u001b[39;49m\u001b[43mplot\u001b[49m\u001b[43m(\u001b[49m\u001b[43max\u001b[49m\u001b[43m,\u001b[49m\u001b[43m \u001b[49m\u001b[43mkwargs\u001b[49m\u001b[43m)\u001b[49m\n\u001b[0;32m    646\u001b[0m \u001b[38;5;28;01mreturn\u001b[39;00m ax\n",
      "File \u001b[1;32m~\\anaconda3\\envs\\dev\\lib\\site-packages\\seaborn\\relational.py:459\u001b[0m, in \u001b[0;36m_LinePlotter.plot\u001b[1;34m(self, ax, kws)\u001b[0m\n\u001b[0;32m    457\u001b[0m         lines\u001b[38;5;241m.\u001b[39mextend(ax\u001b[38;5;241m.\u001b[39mplot(unit_data[\u001b[38;5;124m\"\u001b[39m\u001b[38;5;124mx\u001b[39m\u001b[38;5;124m\"\u001b[39m], unit_data[\u001b[38;5;124m\"\u001b[39m\u001b[38;5;124my\u001b[39m\u001b[38;5;124m\"\u001b[39m], \u001b[38;5;241m*\u001b[39m\u001b[38;5;241m*\u001b[39mkws))\n\u001b[0;32m    458\u001b[0m \u001b[38;5;28;01melse\u001b[39;00m:\n\u001b[1;32m--> 459\u001b[0m     lines \u001b[38;5;241m=\u001b[39m ax\u001b[38;5;241m.\u001b[39mplot(sub_data[\u001b[38;5;124m\"\u001b[39m\u001b[38;5;124mx\u001b[39m\u001b[38;5;124m\"\u001b[39m], \u001b[43msub_data\u001b[49m\u001b[43m[\u001b[49m\u001b[38;5;124;43m\"\u001b[39;49m\u001b[38;5;124;43my\u001b[39;49m\u001b[38;5;124;43m\"\u001b[39;49m\u001b[43m]\u001b[49m, \u001b[38;5;241m*\u001b[39m\u001b[38;5;241m*\u001b[39mkws)\n\u001b[0;32m    461\u001b[0m \u001b[38;5;28;01mfor\u001b[39;00m line \u001b[38;5;129;01min\u001b[39;00m lines:\n\u001b[0;32m    463\u001b[0m     \u001b[38;5;28;01mif\u001b[39;00m \u001b[38;5;124m\"\u001b[39m\u001b[38;5;124mhue\u001b[39m\u001b[38;5;124m\"\u001b[39m \u001b[38;5;129;01min\u001b[39;00m sub_vars:\n",
      "File \u001b[1;32m~\\anaconda3\\envs\\dev\\lib\\site-packages\\pandas\\core\\frame.py:3761\u001b[0m, in \u001b[0;36mDataFrame.__getitem__\u001b[1;34m(self, key)\u001b[0m\n\u001b[0;32m   3759\u001b[0m \u001b[38;5;28;01mif\u001b[39;00m \u001b[38;5;28mself\u001b[39m\u001b[38;5;241m.\u001b[39mcolumns\u001b[38;5;241m.\u001b[39mnlevels \u001b[38;5;241m>\u001b[39m \u001b[38;5;241m1\u001b[39m:\n\u001b[0;32m   3760\u001b[0m     \u001b[38;5;28;01mreturn\u001b[39;00m \u001b[38;5;28mself\u001b[39m\u001b[38;5;241m.\u001b[39m_getitem_multilevel(key)\n\u001b[1;32m-> 3761\u001b[0m indexer \u001b[38;5;241m=\u001b[39m \u001b[38;5;28;43mself\u001b[39;49m\u001b[38;5;241;43m.\u001b[39;49m\u001b[43mcolumns\u001b[49m\u001b[38;5;241;43m.\u001b[39;49m\u001b[43mget_loc\u001b[49m\u001b[43m(\u001b[49m\u001b[43mkey\u001b[49m\u001b[43m)\u001b[49m\n\u001b[0;32m   3762\u001b[0m \u001b[38;5;28;01mif\u001b[39;00m is_integer(indexer):\n\u001b[0;32m   3763\u001b[0m     indexer \u001b[38;5;241m=\u001b[39m [indexer]\n",
      "File \u001b[1;32m~\\anaconda3\\envs\\dev\\lib\\site-packages\\pandas\\core\\indexes\\base.py:3655\u001b[0m, in \u001b[0;36mIndex.get_loc\u001b[1;34m(self, key)\u001b[0m\n\u001b[0;32m   3653\u001b[0m     \u001b[38;5;28;01mreturn\u001b[39;00m \u001b[38;5;28mself\u001b[39m\u001b[38;5;241m.\u001b[39m_engine\u001b[38;5;241m.\u001b[39mget_loc(casted_key)\n\u001b[0;32m   3654\u001b[0m \u001b[38;5;28;01mexcept\u001b[39;00m \u001b[38;5;167;01mKeyError\u001b[39;00m \u001b[38;5;28;01mas\u001b[39;00m err:\n\u001b[1;32m-> 3655\u001b[0m     \u001b[38;5;28;01mraise\u001b[39;00m \u001b[38;5;167;01mKeyError\u001b[39;00m(key) \u001b[38;5;28;01mfrom\u001b[39;00m \u001b[38;5;21;01merr\u001b[39;00m\n\u001b[0;32m   3656\u001b[0m \u001b[38;5;28;01mexcept\u001b[39;00m \u001b[38;5;167;01mTypeError\u001b[39;00m:\n\u001b[0;32m   3657\u001b[0m     \u001b[38;5;66;03m# If we have a listlike key, _check_indexing_error will raise\u001b[39;00m\n\u001b[0;32m   3658\u001b[0m     \u001b[38;5;66;03m#  InvalidIndexError. Otherwise we fall through and re-raise\u001b[39;00m\n\u001b[0;32m   3659\u001b[0m     \u001b[38;5;66;03m#  the TypeError.\u001b[39;00m\n\u001b[0;32m   3660\u001b[0m     \u001b[38;5;28mself\u001b[39m\u001b[38;5;241m.\u001b[39m_check_indexing_error(key)\n",
      "\u001b[1;31mKeyError\u001b[0m: 'y'"
     ]
    },
    {
     "data": {
      "image/png": "[encoded data removed]",
      "text/plain": [
       "<Figure size 1200x600 with 1 Axes>"
      ]
     },
     "metadata": {},
     "output_type": "display_data"
    }
   ],
   "source": [
    "\n",
    "# Step 5: Analyze Housing Costs\n",
    "\n",
    "housing_costs = dataframes.get(\"Housing_Costs\")\n",
    "if housing_costs is not None:\n",
    "    # Clean and process housing costs data\n",
    "    housing_costs = ensure_numeric(housing_costs, \"median_value_dollars\")\n",
    "    housing_costs = ensure_numeric(housing_costs, \"year\")\n",
    "    housing_costs = housing_costs[housing_costs[\"county\"] == \"Loudoun County, Virginia\"]\n",
    "\n",
    "    # Plot Median Housing Costs Over Time\n",
    "    if not housing_costs.empty:\n",
    "        plot_line(\n",
    "            housing_costs,\n",
    "            x=\"year\",\n",
    "            y=\"median_value_dollars\",\n",
    "            title=\"Median Housing Costs in Loudoun County (2010-2020)\",\n",
    "            xlabel=\"Year\",\n",
    "            ylabel=\"Median Housing Cost (USD)\",\n",
    "            color=\"purple\"\n",
    "        )\n",
    "    else:\n",
    "        print(\"No data for Loudoun County in Housing Costs dataset.\")\n",
    "else:\n",
    "    print(\"Housing Costs dataset is missing.\")\n"
   ]
  },
  {
   "cell_type": "code",
   "execution_count": null,
   "id": "201caec0",
   "metadata": {},
   "outputs": [],
   "source": []
  }
 ],
 "metadata": {
  "kernelspec": {
   "display_name": "Python 3 (ipykernel)",
   "language": "python",
   "name": "python3"
  },
  "language_info": {
   "codemirror_mode": {
    "name": "ipython",
    "version": 3
   },
   "file_extension": ".py",
   "mimetype": "text/x-python",
   "name": "python",
   "nbconvert_exporter": "python",
   "pygments_lexer": "ipython3",
   "version": "3.10.13"
  }
 },
 "nbformat": 4,
 "nbformat_minor": 5
}
