{
 "cells": [
  {
   "cell_type": "code",
   "execution_count": 3,
   "id": "b7036312",
   "metadata": {
    "scrolled": false
   },
   "outputs": [
    {
     "name": "stdout",
     "output_type": "stream",
     "text": [
      "Index(['geofips', 'geoname', 'linecode', 'description', '2001', '2002', '2003',\n",
      "       '2004', '2005', '2006', '2007', '2008', '2009', '2010', '2011', '2012',\n",
      "       '2013', '2014', '2015', '2016', '2017', '2018', '2019', '2020', '2021',\n",
      "       '2022', 'data_type'],\n",
      "      dtype='object')\n"
     ]
    }
   ],
   "source": [
    "import pandas as pd\n",
    "import os\n",
    "\n",
    "def clean_datasets(schema_definitions, dataset_paths, output_folder):\n",
    "    for table_name, file_paths in dataset_paths.items():\n",
    "        expected_columns = schema_definitions.get(table_name, [])\n",
    "\n",
    "        for file_path in file_paths:\n",
    "            try:\n",
    "                # Load the dataset\n",
    "                df = pd.read_csv(file_path)\n",
    "\n",
    "                # Identify missing and extra columns\n",
    "                actual_columns = list(df.columns)\n",
    "                missing_columns = [col for col in expected_columns if col not in actual_columns]\n",
    "                extra_columns = [col for col in actual_columns if col not in expected_columns]\n",
    "\n",
    "                # Add placeholders for missing columns\n",
    "                for col in missing_columns:\n",
    "                    df[col] = None\n",
    "\n",
    "                # Drop extra columns\n",
    "                df = df[expected_columns]  # Ensures order matches schema\n",
    "\n",
    "                # Save the cleaned file\n",
    "                output_path = os.path.join(output_folder, os.path.basename(file_path))\n",
    "                df.to_csv(output_path, index=False)\n",
    "                print(f\"Cleaned file saved: {output_path}\")\n",
    "\n",
    "            except Exception as e:\n",
    "                print(f\"Error cleaning file {file_path}: {e}\")\n",
    "\n",
    "# Example usage\n",
    "output_folder = r\"C:\\Users\\AKKem\\OneDrive\\Desktop\\Data Analysis Modules\\Projects\\Loudoun_Growth_Study\\data\\cleaned_files\\fixed_files\"\n",
    "os.makedirs(output_folder, exist_ok=True)\n",
    "\n",
    "clean_datasets(schema_definitions, cleaned_files, output_folder)"
   ]
  },
  {
   "cell_type": "code",
   "execution_count": 5,
   "id": "89a732fd",
   "metadata": {},
   "outputs": [
    {
     "name": "stdout",
     "output_type": "stream",
     "text": [
      "Index(['area_fips', 'own_code', 'industry_code', 'agglvl_code', 'size_code',\n",
      "       'year', 'qtr', 'qtrly_estabs', 'month1_emplvl', 'month2_emplvl',\n",
      "       'month3_emplvl', 'total_qtrly_wages', 'taxable_qtrly_wages',\n",
      "       'qtrly_contributions', 'avg_wkly_wage', 'lq_qtrly_estabs',\n",
      "       'lq_month1_emplvl', 'lq_month2_emplvl', 'lq_month3_emplvl',\n",
      "       'lq_total_qtrly_wages', 'lq_taxable_qtrly_wages',\n",
      "       'lq_qtrly_contributions', 'lq_avg_wkly_wage', 'oty_qtrly_estabs_chg',\n",
      "       'oty_qtrly_estabs_pct_chg', 'oty_month1_emplvl_chg',\n",
      "       'oty_month1_emplvl_pct_chg', 'oty_month2_emplvl_chg',\n",
      "       'oty_month2_emplvl_pct_chg', 'oty_month3_emplvl_chg',\n",
      "       'oty_month3_emplvl_pct_chg', 'oty_total_qtrly_wages_chg',\n",
      "       'oty_total_qtrly_wages_pct_chg', 'oty_taxable_qtrly_wages_chg',\n",
      "       'oty_taxable_qtrly_wages_pct_chg', 'oty_qtrly_contributions_chg',\n",
      "       'oty_qtrly_contributions_pct_chg', 'oty_avg_wkly_wage_chg',\n",
      "       'oty_avg_wkly_wage_pct_chg', 'data_type'],\n",
      "      dtype='object')\n"
     ]
    }
   ],
   "source": [
    "import pandas as pd\n",
    "\n",
    "# Load the dataset\n",
    "df = pd.read_csv(r\"C:\\Users\\AKKem\\OneDrive\\Desktop\\Data Analysis Modules\\Projects\\Loudoun_Growth_Study\\data\\cleaned_files\\cleaned_2024_q1_retail_trade.csv\")\n",
    "\n",
    "# Display the column names\n",
    "print(df.columns)\n"
   ]
  },
  {
   "cell_type": "code",
   "execution_count": 7,
   "id": "e5d8aa44",
   "metadata": {},
   "outputs": [
    {
     "name": "stdout",
     "output_type": "stream",
     "text": [
      "Index(['label_grouping', 'santa_clara_county_californiaestimate',\n",
      "       'santa_clara_county_californiamargin_of_error',\n",
      "       'montgomery_county_marylandestimate',\n",
      "       'montgomery_county_marylandmargin_of_error',\n",
      "       'wake_county_north_carolinaestimate',\n",
      "       'wake_county_north_carolinamargin_of_error',\n",
      "       'davidson_county_tennesseeestimate',\n",
      "       'davidson_county_tennesseemargin_of_error',\n",
      "       'dallas_county_texasestimate', 'dallas_county_texasmargin_of_error',\n",
      "       'fairfax_county_virginiaestimate',\n",
      "       'fairfax_county_virginiamargin_of_error',\n",
      "       'loudoun_county_virginiaestimate',\n",
      "       'loudoun_county_virginiamargin_of_error', 'data_type'],\n",
      "      dtype='object')\n"
     ]
    }
   ],
   "source": [
    "import pandas as pd\n",
    "\n",
    "# Load the dataset\n",
    "df = pd.read_csv(r\"C:\\Users\\AKKem\\OneDrive\\Desktop\\Data Analysis Modules\\Projects\\Loudoun_Growth_Study\\data\\cleaned_files\\cleaned_2020_housing_occupancy.csv\")\n",
    "\n",
    "# Display the column names\n",
    "print(df.columns)\n"
   ]
  },
  {
   "cell_type": "code",
   "execution_count": 8,
   "id": "70c089b0",
   "metadata": {},
   "outputs": [
    {
     "name": "stdout",
     "output_type": "stream",
     "text": [
      "Index(['label_grouping', 'santa_clara_county_californiahouseholdsestimate',\n",
      "       'santa_clara_county_californiahouseholdsmargin_of_error',\n",
      "       'santa_clara_county_californiafamiliesestimate',\n",
      "       'santa_clara_county_californiafamiliesmargin_of_error',\n",
      "       'santa_clara_county_californiamarriedcouple_familiesestimate',\n",
      "       'santa_clara_county_californiamarriedcouple_familiesmargin_of_error',\n",
      "       'santa_clara_county_californianonfamily_householdsestimate',\n",
      "       'santa_clara_county_californianonfamily_householdsmargin_of_error',\n",
      "       'montgomery_county_marylandhouseholdsestimate',\n",
      "       'montgomery_county_marylandhouseholdsmargin_of_error',\n",
      "       'montgomery_county_marylandfamiliesestimate',\n",
      "       'montgomery_county_marylandfamiliesmargin_of_error',\n",
      "       'montgomery_county_marylandmarriedcouple_familiesestimate',\n",
      "       'montgomery_county_marylandmarriedcouple_familiesmargin_of_error',\n",
      "       'montgomery_county_marylandnonfamily_householdsestimate',\n",
      "       'montgomery_county_marylandnonfamily_householdsmargin_of_error',\n",
      "       'wake_county_north_carolinahouseholdsestimate',\n",
      "       'wake_county_north_carolinahouseholdsmargin_of_error',\n",
      "       'wake_county_north_carolinafamiliesestimate',\n",
      "       'wake_county_north_carolinafamiliesmargin_of_error',\n",
      "       'wake_county_north_carolinamarriedcouple_familiesestimate',\n",
      "       'wake_county_north_carolinamarriedcouple_familiesmargin_of_error',\n",
      "       'wake_county_north_carolinanonfamily_householdsestimate',\n",
      "       'wake_county_north_carolinanonfamily_householdsmargin_of_error',\n",
      "       'davidson_county_tennesseehouseholdsestimate',\n",
      "       'davidson_county_tennesseehouseholdsmargin_of_error',\n",
      "       'davidson_county_tennesseefamiliesestimate',\n",
      "       'davidson_county_tennesseefamiliesmargin_of_error',\n",
      "       'davidson_county_tennesseemarriedcouple_familiesestimate',\n",
      "       'davidson_county_tennesseemarriedcouple_familiesmargin_of_error',\n",
      "       'davidson_county_tennesseenonfamily_householdsestimate',\n",
      "       'davidson_county_tennesseenonfamily_householdsmargin_of_error',\n",
      "       'dallas_county_texashouseholdsestimate',\n",
      "       'dallas_county_texashouseholdsmargin_of_error',\n",
      "       'dallas_county_texasfamiliesestimate',\n",
      "       'dallas_county_texasfamiliesmargin_of_error',\n",
      "       'dallas_county_texasmarriedcouple_familiesestimate',\n",
      "       'dallas_county_texasmarriedcouple_familiesmargin_of_error',\n",
      "       'dallas_county_texasnonfamily_householdsestimate',\n",
      "       'dallas_county_texasnonfamily_householdsmargin_of_error',\n",
      "       'fairfax_county_virginiahouseholdsestimate',\n",
      "       'fairfax_county_virginiahouseholdsmargin_of_error',\n",
      "       'fairfax_county_virginiafamiliesestimate',\n",
      "       'fairfax_county_virginiafamiliesmargin_of_error',\n",
      "       'fairfax_county_virginiamarriedcouple_familiesestimate',\n",
      "       'fairfax_county_virginiamarriedcouple_familiesmargin_of_error',\n",
      "       'fairfax_county_virginianonfamily_householdsestimate',\n",
      "       'fairfax_county_virginianonfamily_householdsmargin_of_error',\n",
      "       'loudoun_county_virginiahouseholdsestimate',\n",
      "       'loudoun_county_virginiahouseholdsmargin_of_error',\n",
      "       'loudoun_county_virginiafamiliesestimate',\n",
      "       'loudoun_county_virginiafamiliesmargin_of_error',\n",
      "       'loudoun_county_virginiamarriedcouple_familiesestimate',\n",
      "       'loudoun_county_virginiamarriedcouple_familiesmargin_of_error',\n",
      "       'loudoun_county_virginianonfamily_householdsestimate',\n",
      "       'loudoun_county_virginianonfamily_householdsmargin_of_error',\n",
      "       'data_type'],\n",
      "      dtype='object')\n"
     ]
    }
   ],
   "source": [
    "import pandas as pd\n",
    "\n",
    "# Load the dataset\n",
    "df = pd.read_csv(r\"C:\\Users\\AKKem\\OneDrive\\Desktop\\Data Analysis Modules\\Projects\\Loudoun_Growth_Study\\data\\cleaned_files\\cleaned_2020_household_income.csv\")\n",
    "# Display the column names\n",
    "print(df.columns)"
   ]
  },
  {
   "cell_type": "code",
   "execution_count": 9,
   "id": "5945fccc",
   "metadata": {},
   "outputs": [
    {
     "name": "stdout",
     "output_type": "stream",
     "text": [
      "Index(['label_grouping', 'santa_clara_county_californiatotalestimate',\n",
      "       'santa_clara_county_californiatotalmargin_of_error',\n",
      "       'santa_clara_county_californiapercentestimate',\n",
      "       'santa_clara_county_californiapercentmargin_of_error',\n",
      "       'santa_clara_county_californiamaleestimate',\n",
      "       'santa_clara_county_californiamalemargin_of_error',\n",
      "       'santa_clara_county_californiapercent_maleestimate',\n",
      "       'santa_clara_county_californiapercent_malemargin_of_error',\n",
      "       'santa_clara_county_californiafemaleestimate',\n",
      "       'santa_clara_county_californiafemalemargin_of_error',\n",
      "       'santa_clara_county_californiapercent_femaleestimate',\n",
      "       'santa_clara_county_californiapercent_femalemargin_of_error',\n",
      "       'montgomery_county_marylandtotalestimate',\n",
      "       'montgomery_county_marylandtotalmargin_of_error',\n",
      "       'montgomery_county_marylandpercentestimate',\n",
      "       'montgomery_county_marylandpercentmargin_of_error',\n",
      "       'montgomery_county_marylandmaleestimate',\n",
      "       'montgomery_county_marylandmalemargin_of_error',\n",
      "       'montgomery_county_marylandpercent_maleestimate',\n",
      "       'montgomery_county_marylandpercent_malemargin_of_error',\n",
      "       'montgomery_county_marylandfemaleestimate',\n",
      "       'montgomery_county_marylandfemalemargin_of_error',\n",
      "       'montgomery_county_marylandpercent_femaleestimate',\n",
      "       'montgomery_county_marylandpercent_femalemargin_of_error',\n",
      "       'wake_county_north_carolinatotalestimate',\n",
      "       'wake_county_north_carolinatotalmargin_of_error',\n",
      "       'wake_county_north_carolinapercentestimate',\n",
      "       'wake_county_north_carolinapercentmargin_of_error',\n",
      "       'wake_county_north_carolinamaleestimate',\n",
      "       'wake_county_north_carolinamalemargin_of_error',\n",
      "       'wake_county_north_carolinapercent_maleestimate',\n",
      "       'wake_county_north_carolinapercent_malemargin_of_error',\n",
      "       'wake_county_north_carolinafemaleestimate',\n",
      "       'wake_county_north_carolinafemalemargin_of_error',\n",
      "       'wake_county_north_carolinapercent_femaleestimate',\n",
      "       'wake_county_north_carolinapercent_femalemargin_of_error',\n",
      "       'davidson_county_tennesseetotalestimate',\n",
      "       'davidson_county_tennesseetotalmargin_of_error',\n",
      "       'davidson_county_tennesseepercentestimate',\n",
      "       'davidson_county_tennesseepercentmargin_of_error',\n",
      "       'davidson_county_tennesseemaleestimate',\n",
      "       'davidson_county_tennesseemalemargin_of_error',\n",
      "       'davidson_county_tennesseepercent_maleestimate',\n",
      "       'davidson_county_tennesseepercent_malemargin_of_error',\n",
      "       'davidson_county_tennesseefemaleestimate',\n",
      "       'davidson_county_tennesseefemalemargin_of_error',\n",
      "       'davidson_county_tennesseepercent_femaleestimate',\n",
      "       'davidson_county_tennesseepercent_femalemargin_of_error',\n",
      "       'dallas_county_texastotalestimate',\n",
      "       'dallas_county_texastotalmargin_of_error',\n",
      "       'dallas_county_texaspercentestimate',\n",
      "       'dallas_county_texaspercentmargin_of_error',\n",
      "       'dallas_county_texasmaleestimate',\n",
      "       'dallas_county_texasmalemargin_of_error',\n",
      "       'dallas_county_texaspercent_maleestimate',\n",
      "       'dallas_county_texaspercent_malemargin_of_error',\n",
      "       'dallas_county_texasfemaleestimate',\n",
      "       'dallas_county_texasfemalemargin_of_error',\n",
      "       'dallas_county_texaspercent_femaleestimate',\n",
      "       'dallas_county_texaspercent_femalemargin_of_error',\n",
      "       'fairfax_county_virginiatotalestimate',\n",
      "       'fairfax_county_virginiatotalmargin_of_error',\n",
      "       'fairfax_county_virginiapercentestimate',\n",
      "       'fairfax_county_virginiapercentmargin_of_error',\n",
      "       'fairfax_county_virginiamaleestimate',\n",
      "       'fairfax_county_virginiamalemargin_of_error',\n",
      "       'fairfax_county_virginiapercent_maleestimate',\n",
      "       'fairfax_county_virginiapercent_malemargin_of_error',\n",
      "       'fairfax_county_virginiafemaleestimate',\n",
      "       'fairfax_county_virginiafemalemargin_of_error',\n",
      "       'fairfax_county_virginiapercent_femaleestimate',\n",
      "       'fairfax_county_virginiapercent_femalemargin_of_error',\n",
      "       'loudoun_county_virginiatotalestimate',\n",
      "       'loudoun_county_virginiatotalmargin_of_error',\n",
      "       'loudoun_county_virginiapercentestimate',\n",
      "       'loudoun_county_virginiapercentmargin_of_error',\n",
      "       'loudoun_county_virginiamaleestimate',\n",
      "       'loudoun_county_virginiamalemargin_of_error',\n",
      "       'loudoun_county_virginiapercent_maleestimate',\n",
      "       'loudoun_county_virginiapercent_malemargin_of_error',\n",
      "       'loudoun_county_virginiafemaleestimate',\n",
      "       'loudoun_county_virginiafemalemargin_of_error',\n",
      "       'loudoun_county_virginiapercent_femaleestimate',\n",
      "       'loudoun_county_virginiapercent_femalemargin_of_error', 'data_type'],\n",
      "      dtype='object')\n"
     ]
    }
   ],
   "source": [
    "import pandas as pd\n",
    "\n",
    "# Load the dataset\n",
    "df = pd.read_csv(r\"C:\\Users\\AKKem\\OneDrive\\Desktop\\Data Analysis Modules\\Projects\\Loudoun_Growth_Study\\data\\cleaned_files\\cleaned_2020_population_age_sex.csv\")\n",
    "# Display the column names\n",
    "print(df.columns)"
   ]
  },
  {
   "cell_type": "code",
   "execution_count": 10,
   "id": "6d37f6f2",
   "metadata": {},
   "outputs": [
    {
     "name": "stdout",
     "output_type": "stream",
     "text": [
      "Index(['geographic_area_name_name', '2017_naics_code_naics2017',\n",
      "       'meaning_of_naics_code_naics2017_label',\n",
      "       'meaning_of_legal_form_of_organization_code_lfo_label',\n",
      "       'meaning_of_employment_size_of_establishments_code_empszes_label',\n",
      "       'year_year', 'number_of_establishments_estab',\n",
      "       'annual_payroll_1000_payann', 'firstquarter_payroll_1000_payqtr1',\n",
      "       'number_of_employees_emp', 'data_type'],\n",
      "      dtype='object')\n"
     ]
    }
   ],
   "source": [
    "import pandas as pd\n",
    "\n",
    "# Load the dataset\n",
    "df = pd.read_csv(r\"C:\\Users\\AKKem\\OneDrive\\Desktop\\Data Analysis Modules\\Projects\\Loudoun_Growth_Study\\data\\cleaned_files\\cleaned_2020_CBP.csv\")\n",
    "# Display the column names\n",
    "print(df.columns)"
   ]
  },
  {
   "cell_type": "code",
   "execution_count": 11,
   "id": "c8be9166",
   "metadata": {},
   "outputs": [
    {
     "name": "stdout",
     "output_type": "stream",
     "text": [
      "Index(['label_grouping', 'loudoun_county_virginiacount',\n",
      "       'loudoun_county_virginiapercent', 'data_type'],\n",
      "      dtype='object')\n"
     ]
    }
   ],
   "source": [
    "import pandas as pd\n",
    "\n",
    "# Load the dataset\n",
    "df = pd.read_csv(r\"C:\\Users\\AKKem\\OneDrive\\Desktop\\Data Analysis Modules\\Projects\\Loudoun_Growth_Study\\data\\cleaned_files\\cleaned_2020_decennial_population_housing.csv\")\n",
    "# Display the column names\n",
    "print(df.columns)"
   ]
  },
  {
   "cell_type": "code",
   "execution_count": null,
   "id": "47b45013",
   "metadata": {},
   "outputs": [],
   "source": []
  }
 ],
 "metadata": {
  "kernelspec": {
   "display_name": "Python 3 (ipykernel)",
   "language": "python",
   "name": "python3"
  },
  "language_info": {
   "codemirror_mode": {
    "name": "ipython",
    "version": 3
   },
   "file_extension": ".py",
   "mimetype": "text/x-python",
   "name": "python",
   "nbconvert_exporter": "python",
   "pygments_lexer": "ipython3",
   "version": "3.10.13"
  }
 },
 "nbformat": 4,
 "nbformat_minor": 5
}
